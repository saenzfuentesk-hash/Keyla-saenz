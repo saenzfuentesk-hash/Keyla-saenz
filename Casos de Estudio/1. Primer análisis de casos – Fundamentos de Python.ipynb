{
 "cells": [
  {
   "cell_type": "markdown",
   "metadata": {
    "id": "q7R3dARlFtDY"
   },
   "source": [
    "# Primer análisis de casos – Fundamentos de Python\n",
    "\n",
    "## Objetivo:\n",
    "En esta tarea, practicaremos los fundamentos básicos de Python resolviendo **cuatro ejercicios** de la lista planteada. Cada solución debe detallar **entradas**, **procesos** y **salidas** para comprender mejor cómo funciona cada problema.\n",
    "\n",
    "### Formato para cada ejercicio (seleccionemos 4 ejercicios):\n",
    "#### Ejercicio X:\n",
    "- **Descripción del problema:** Incluiremos el enunciado del ejercicio.\n",
    "- **Entradas:** Detallaremos los datos que debemos ingresar.\n",
    "- **Proceso:** Explicaremos cómo resolveremos el problema (algoritmo o fórmula).\n",
    "- **Salidas:** Describiremos el resultado que veremos en pantalla al final del proceso.\n",
    "\n",
    "#### Código del ejercicio:\n",
    "- Escribiremos la solución del ejercicio en una celda de código Python.\n",
    "- Agregaremos comentarios para explicar el código y hacerlo más comprensible.\n",
    "\n",
    "### Conclusión:\n",
    "- Al final, resumiremos lo que hemos aprendido resolviendo los ejercicios.\n",
    "- Reflexionaremos sobre cómo Python nos ayuda a solucionar problemas cotidianos.\n",
    "\n",
    "## Formato de entrega del informe en PDF:\n",
    "\n",
    "Debemos exportar nuestro notebook de Jupyter a formato PDF, cumpliendo con las siguientes pautas:\n",
    "\n",
    "### Portada:\n",
    "- Título: \"Primer análisis de casos – Fundamentos de Python\".\n",
    "- Nuestro nombre completo.\n",
    "- Fecha de entrega.\n",
    "- Curso.\n",
    "\n",
    "### Cuerpo del informe:\n",
    "- **Introducción:** Explicaremos brevemente los ejercicios que hemos seleccionado.\n",
    "- **Desarrollo de cada ejercicio:**\n",
    "  - Descripción del problema.\n",
    "  - Entradas, procesos y salidas detallados.\n",
    "  - Capturas de pantalla del código y del resultado de la ejecución.\n",
    "\n",
    "### Conclusión:\n",
    "- Reflexionaremos sobre el aprendizaje y las posibles dificultades que enfrentamos durante la resolución de los ejercicios.\n",
    "\n",
    "## Lista de ejercicios (Seleccionemos 4):\n",
    "\n",
    "1. Calcular el área de un triángulo a partir de la base y altura ingresadas.\n",
    "2. Convertir una cantidad de dólares a colones.\n",
    "3. Convertir grados centígrados a Fahrenheit.\n",
    "4. Mostrar cuántos segundos tiene un lustro.\n",
    "5. Calcular el tiempo que le toma a la luz viajar del sol a Marte.\n",
    "6. Calcular cuántas vueltas da una llanta en 1 km.\n",
    "7. Calcular la longitud de la sombra de un edificio de 20 metros.\n",
    "8. Comparar si la edad ingresada por dos usuarios es la misma.\n",
    "9. Calcular cuántos meses han transcurrido desde nuestra fecha de nacimiento.\n",
    "10. Calcular el promedio de un alumno en 5 materias.\n",
    "\n",
    "## Proceso de entrega:\n",
    "1. Resolveremos 4 de los ejercicios propuestos en un notebook de.\n",
    "2. Exportaremos el notebook a PDF siguiendo el formato establecido.\n",
    "3. Subiremos el PDF y el archivo de notebook (.ipynb) a la plataforma antes de la fecha límite.\n"
   ]
  },
  {
   "cell_type": "markdown",
   "metadata": {},
   "source": [
    "# Problema #1\n",
    "\n",
    "### Convertir una cantidad de dólares a colones.\n",
    "\n",
    "## Entrada: \n",
    "Leer La cantidad de dolares\n",
    "Leer tipo cambio\n",
    "\n",
    "## Proceso:\n",
    "\n",
    "cantidad_dolares * tipo_cambio\n",
    "\n",
    "## Salida:\n",
    "\n",
    "resultado de la multiplicacion"
   ]
  },
  {
   "cell_type": "code",
   "execution_count": null,
   "metadata": {
    "colab": {
     "base_uri": "https://localhost:8080/"
    },
    "executionInfo": {
     "elapsed": 10485,
     "status": "ok",
     "timestamp": 1712064323417,
     "user": {
      "displayName": "Andrés Mena Abarca",
      "userId": "07418092259593836578"
     },
     "user_tz": 360
    },
    "id": "n3rOsUESDeTs",
    "outputId": "1cd40ed7-f1d2-4b89-bca5-696418df0021"
   },
   "outputs": [
    {
     "name": "stdout",
     "output_type": "stream",
     "text": [
      "El tipo de cambio es de 10123.6\n"
     ]
    }
   ],
   "source": [
    "## Autor: Keyla Saenz Fuentes \n",
    "#Profesor: Andres \n",
    "#Primer analisis de casos fundamentos Python\n",
    "\n",
    "# Código solución aqui\n",
    "\n",
    "#Entradas\n",
    "\n",
    "Dolares = 20\n",
    "Tipo_cambio = 506.18\n",
    "\n",
    "#Proceso \n",
    "\n",
    "convercíon =  Dolares * Tipo_cambio\n",
    "\n",
    "#Salida\n",
    "\n",
    "print ( f\"El tipo de cambio es de {Dolares * Tipo_cambio}\")\n"
   ]
  },
  {
   "cell_type": "markdown",
   "metadata": {},
   "source": [
    "# Problema #2\n",
    "\n",
    "### Definir problema\n",
    "\n",
    "## Entrada:\n",
    "\n",
    "## Proceso:\n",
    "\n",
    "## Salida:"
   ]
  },
  {
   "cell_type": "code",
   "execution_count": null,
   "metadata": {},
   "outputs": [
    {
     "name": "stdout",
     "output_type": "stream",
     "text": [
      "El area del triangulo es:  50.0\n"
     ]
    }
   ],
   "source": [
    "# Calcular el área de un triángulo a partir de la base y altura ingresadas.\n",
    "# Código solucción aqui\n",
    "\n",
    "\n",
    "\n",
    "#Entrada \n",
    "base = float(input('Ingrese la base del triangulo: '))\n",
    "altura = float(input('Ingrese la altura del triangulo: '))\n",
    "\n",
    "\n",
    "# -----> Proceso \n",
    "\n",
    "# Se calcula el área del triángulo (b*h)/2.\n",
    "area = (base * altura) / 2\n",
    "\n",
    "\n",
    "# -----> Salida \n",
    "# Se muestra el resultado del área del triángulo al usuario.\n",
    "\n",
    "print('El area del triangulo es: ' ,area)\n",
    "\n",
    "\n"
   ]
  },
  {
   "cell_type": "markdown",
   "metadata": {},
   "source": [
    "# Problema #3\n",
    "\n",
    "### Definir problema\n",
    "\n",
    "## Entrada:\n",
    "\n",
    "## Proceso:\n",
    "\n",
    "## Salida:"
   ]
  },
  {
   "cell_type": "code",
   "execution_count": 15,
   "metadata": {},
   "outputs": [
    {
     "name": "stdout",
     "output_type": "stream",
     "text": [
      "El promedio de las 5 materias es: 80.0 \n"
     ]
    }
   ],
   "source": [
    "# Código solucción aqui Calcular el promedio de un alumno en 5 materias.\n",
    "\n",
    "#Entradas \n",
    "\n",
    "Materia1 = float(input(\"ingrese la nota de la Materia1\"))\n",
    "Materia2 = float(input(\"ingrese la nota de la Materia2\"))\n",
    "Materia3 = float(input(\"ingrese la nota de la Materia3\"))\n",
    "Materia4 = float(input(\"ingrese la nota de la Materia4\"))\n",
    "Materia5 = float(input(\"ingrese la nota de la Materia5\"))\n",
    "\n",
    "#Proceso \n",
    "#Se suman todas las materias y se dividen entre 5 para calcular el promedio \n",
    "\n",
    "promedio = (Materia1 + Materia2 + Materia3 + Materia4 + Materia5)/5\n",
    "\n",
    "#Salida\n",
    "print(f\"El promedio de las 5 materias es:{promedio: } \")\n",
    "\n",
    "\n"
   ]
  },
  {
   "cell_type": "markdown",
   "metadata": {},
   "source": [
    "# Problema #4\n",
    "\n",
    "### Definir problema\n",
    "\n",
    "## Entrada:\n",
    "\n",
    "## Proceso:\n",
    "\n",
    "## Salida:"
   ]
  },
  {
   "cell_type": "code",
   "execution_count": 20,
   "metadata": {},
   "outputs": [
    {
     "name": "stdout",
     "output_type": "stream",
     "text": [
      "El total en meses es: 360 \n"
     ]
    }
   ],
   "source": [
    "# Código solucción aqui Calcular cuántos meses han transcurrido desde nuestra fecha de nacimiento.\n",
    "\n",
    "#Entradas\n",
    "\n",
    "Edad = 30\n",
    "Meses = 12\n",
    "\n",
    "calculo = (Edad * Meses )\n",
    "\n",
    "print(f'El total en meses es: {calculo} ')"
   ]
  }
 ],
 "metadata": {
  "colab": {
   "provenance": []
  },
  "kernelspec": {
   "display_name": "Python 3",
   "name": "python3"
  },
  "language_info": {
   "codemirror_mode": {
    "name": "ipython",
    "version": 3
   },
   "file_extension": ".py",
   "mimetype": "text/x-python",
   "name": "python",
   "nbconvert_exporter": "python",
   "pygments_lexer": "ipython3",
   "version": "3.13.7"
  }
 },
 "nbformat": 4,
 "nbformat_minor": 0
}
